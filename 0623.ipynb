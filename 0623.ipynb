{
  "cells": [
    {
      "cell_type": "markdown",
      "metadata": {
        "id": "view-in-github",
        "colab_type": "text"
      },
      "source": [
        "<a href=\"https://colab.research.google.com/github/C110156235/yan/blob/main/0623.ipynb\" target=\"_parent\"><img src=\"https://colab.research.google.com/assets/colab-badge.svg\" alt=\"Open In Colab\"/></a>"
      ]
    },
    {
      "cell_type": "markdown",
      "metadata": {
        "id": "BRJwV6s5d1FV"
      },
      "source": [
        "# **python 基礎練習**"
      ]
    },
    {
      "cell_type": "code",
      "execution_count": null,
      "metadata": {
        "colab": {
          "base_uri": "https://localhost:8080/"
        },
        "id": "sZC3t-4ladFf",
        "outputId": "e9275b09-5a18-4a6c-8348-03a71d65e46a"
      },
      "outputs": [
        {
          "name": "stdout",
          "output_type": "stream",
          "text": [
            "hello world\n",
            "1\n",
            "2\n",
            "3\n",
            "4\n",
            "5\n",
            "6\n",
            "7\n",
            "8\n",
            "9\n",
            "10\n"
          ]
        }
      ],
      "source": [
        "print(\"hello world\")\n",
        "for i in range(1,11):\n",
        "  a=1*i\n",
        "  print(a)"
      ]
    },
    {
      "cell_type": "code",
      "execution_count": null,
      "metadata": {
        "colab": {
          "base_uri": "https://localhost:8080/",
          "height": 356
        },
        "id": "0opyuq7Rp5b8",
        "outputId": "b1ecaca1-816a-4c5a-fa9e-a26ad38419c1"
      },
      "outputs": [
        {
          "ename": "KeyboardInterrupt",
          "evalue": "Interrupted by user",
          "output_type": "error",
          "traceback": [
            "\u001b[0;31m---------------------------------------------------------------------------\u001b[0m",
            "\u001b[0;31mKeyboardInterrupt\u001b[0m                         Traceback (most recent call last)",
            "\u001b[0;32m/tmp/ipython-input-40-2346965164.py\u001b[0m in \u001b[0;36m<cell line: 0>\u001b[0;34m()\u001b[0m\n\u001b[0;32m----> 1\u001b[0;31m \u001b[0mage\u001b[0m\u001b[0;34m=\u001b[0m\u001b[0mint\u001b[0m\u001b[0;34m(\u001b[0m\u001b[0minput\u001b[0m\u001b[0;34m(\u001b[0m\u001b[0;34m\"請輸入你的年紀\"\u001b[0m\u001b[0;34m)\u001b[0m\u001b[0;34m)\u001b[0m\u001b[0;34m\u001b[0m\u001b[0;34m\u001b[0m\u001b[0m\n\u001b[0m\u001b[1;32m      2\u001b[0m \u001b[0;32mif\u001b[0m \u001b[0mage\u001b[0m\u001b[0;34m>=\u001b[0m\u001b[0;36m18\u001b[0m\u001b[0;34m:\u001b[0m\u001b[0;34m\u001b[0m\u001b[0;34m\u001b[0m\u001b[0m\n\u001b[1;32m      3\u001b[0m   \u001b[0mprint\u001b[0m\u001b[0;34m(\u001b[0m\u001b[0;34m\"你可以開車車唷\"\u001b[0m\u001b[0;34m)\u001b[0m\u001b[0;34m\u001b[0m\u001b[0;34m\u001b[0m\u001b[0m\n\u001b[1;32m      4\u001b[0m \u001b[0;32melse\u001b[0m\u001b[0;34m:\u001b[0m\u001b[0;34m\u001b[0m\u001b[0;34m\u001b[0m\u001b[0m\n\u001b[1;32m      5\u001b[0m   \u001b[0mdiff\u001b[0m\u001b[0;34m=\u001b[0m\u001b[0;36m18\u001b[0m\u001b[0;34m-\u001b[0m\u001b[0mage\u001b[0m\u001b[0;34m\u001b[0m\u001b[0;34m\u001b[0m\u001b[0m\n",
            "\u001b[0;32m/usr/local/lib/python3.11/dist-packages/ipykernel/kernelbase.py\u001b[0m in \u001b[0;36mraw_input\u001b[0;34m(self, prompt)\u001b[0m\n\u001b[1;32m   1175\u001b[0m                 \u001b[0;34m\"raw_input was called, but this frontend does not support input requests.\"\u001b[0m\u001b[0;34m\u001b[0m\u001b[0;34m\u001b[0m\u001b[0m\n\u001b[1;32m   1176\u001b[0m             )\n\u001b[0;32m-> 1177\u001b[0;31m         return self._input_request(\n\u001b[0m\u001b[1;32m   1178\u001b[0m             \u001b[0mstr\u001b[0m\u001b[0;34m(\u001b[0m\u001b[0mprompt\u001b[0m\u001b[0;34m)\u001b[0m\u001b[0;34m,\u001b[0m\u001b[0;34m\u001b[0m\u001b[0;34m\u001b[0m\u001b[0m\n\u001b[1;32m   1179\u001b[0m             \u001b[0mself\u001b[0m\u001b[0;34m.\u001b[0m\u001b[0m_parent_ident\u001b[0m\u001b[0;34m[\u001b[0m\u001b[0;34m\"shell\"\u001b[0m\u001b[0;34m]\u001b[0m\u001b[0;34m,\u001b[0m\u001b[0;34m\u001b[0m\u001b[0;34m\u001b[0m\u001b[0m\n",
            "\u001b[0;32m/usr/local/lib/python3.11/dist-packages/ipykernel/kernelbase.py\u001b[0m in \u001b[0;36m_input_request\u001b[0;34m(self, prompt, ident, parent, password)\u001b[0m\n\u001b[1;32m   1217\u001b[0m             \u001b[0;32mexcept\u001b[0m \u001b[0mKeyboardInterrupt\u001b[0m\u001b[0;34m:\u001b[0m\u001b[0;34m\u001b[0m\u001b[0;34m\u001b[0m\u001b[0m\n\u001b[1;32m   1218\u001b[0m                 \u001b[0;31m# re-raise KeyboardInterrupt, to truncate traceback\u001b[0m\u001b[0;34m\u001b[0m\u001b[0;34m\u001b[0m\u001b[0m\n\u001b[0;32m-> 1219\u001b[0;31m                 \u001b[0;32mraise\u001b[0m \u001b[0mKeyboardInterrupt\u001b[0m\u001b[0;34m(\u001b[0m\u001b[0;34m\"Interrupted by user\"\u001b[0m\u001b[0;34m)\u001b[0m \u001b[0;32mfrom\u001b[0m \u001b[0;32mNone\u001b[0m\u001b[0;34m\u001b[0m\u001b[0;34m\u001b[0m\u001b[0m\n\u001b[0m\u001b[1;32m   1220\u001b[0m             \u001b[0;32mexcept\u001b[0m \u001b[0mException\u001b[0m\u001b[0;34m:\u001b[0m\u001b[0;34m\u001b[0m\u001b[0;34m\u001b[0m\u001b[0m\n\u001b[1;32m   1221\u001b[0m                 \u001b[0mself\u001b[0m\u001b[0;34m.\u001b[0m\u001b[0mlog\u001b[0m\u001b[0;34m.\u001b[0m\u001b[0mwarning\u001b[0m\u001b[0;34m(\u001b[0m\u001b[0;34m\"Invalid Message:\"\u001b[0m\u001b[0;34m,\u001b[0m \u001b[0mexc_info\u001b[0m\u001b[0;34m=\u001b[0m\u001b[0;32mTrue\u001b[0m\u001b[0;34m)\u001b[0m\u001b[0;34m\u001b[0m\u001b[0;34m\u001b[0m\u001b[0m\n",
            "\u001b[0;31mKeyboardInterrupt\u001b[0m: Interrupted by user"
          ]
        }
      ],
      "source": [
        "age=int(input(\"請輸入你的年紀\"))\n",
        "if age>=18:\n",
        "  print(\"你可以開車車唷\")\n",
        "else:\n",
        "  diff=18-age\n",
        "  print(\"你還有\",diff,\"年，才可以開車\")\n"
      ]
    },
    {
      "cell_type": "code",
      "execution_count": null,
      "metadata": {
        "id": "Axy08xn91HQE"
      },
      "outputs": [],
      "source": [
        "import datetime\n",
        "today=datetime.date.today()\n",
        "month=int(input(\"哪個月份出生的?\"))\n",
        "day=int(input(\"哪個日期出生的?\"))\n",
        "birthday=datetime.date(today.year,int(month),int(day))\n",
        "if birthday < today:\n",
        "  birthday=datetime.date(today.year+1,int(month),int(day))\n",
        "diff =birthday-today\n",
        "if diff.days==0:\n",
        "  print(\"你今天生日\")\n",
        "else:\n",
        "  print(\"你還有\",diff.days,\"天生日\")"
      ]
    },
    {
      "cell_type": "code",
      "execution_count": null,
      "metadata": {
        "id": "L5D29ZIf79_4"
      },
      "outputs": [],
      "source": [
        "age=int(input(\"你幾歲?\"))\n",
        "parent=input(\"是否有家長陪同?(是或否)\")\n",
        "if age >=18:\n",
        "    print(\"可以看限制級電影\")\n",
        "elif age >=12 and age <18:\n",
        "    print(\"可以看輔導級電影\")\n",
        "elif age >=6 and age<12 and parent==\"是\":\n",
        "    print(\"可以看保護級電影\")\n",
        "else:\n",
        "    print(\"可以看普遍級電影\")"
      ]
    },
    {
      "cell_type": "code",
      "execution_count": null,
      "metadata": {
        "id": "ADun-636xDKm"
      },
      "outputs": [],
      "source": [
        "b=[9,1,6,10]\n",
        "\n",
        "b.append([88,2.6])\n",
        "b.extend([88,2.6])\n",
        "b"
      ]
    },
    {
      "cell_type": "code",
      "execution_count": null,
      "metadata": {
        "colab": {
          "base_uri": "https://localhost:8080/"
        },
        "id": "2mSA-dte1OUV",
        "outputId": "77571b63-5c37-47d6-fac7-0451052af296"
      },
      "outputs": [
        {
          "data": {
            "text/plain": [
              "6"
            ]
          },
          "execution_count": 50,
          "metadata": {},
          "output_type": "execute_result"
        }
      ],
      "source": [
        "c={\"name\":\"popo\",\"city\":\"Kaohsiung\",\"Age\":\"88\"}\n",
        "c.keys()\n",
        "c.values()\n",
        "c.items()\n",
        "d=['c','d','ud','du','d','du']\n",
        "d\n",
        "len(d)"
      ]
    },
    {
      "cell_type": "code",
      "execution_count": null,
      "metadata": {
        "colab": {
          "base_uri": "https://localhost:8080/"
        },
        "id": "BDn_vquA1di5",
        "outputId": "a2b5fabd-3511-4b42-9f47-589583144b25"
      },
      "outputs": [
        {
          "name": "stdout",
          "output_type": "stream",
          "text": [
            "\n",
            "*\n",
            "**\n",
            "***\n",
            "****\n",
            "*****\n",
            "******\n",
            "*******\n",
            "********\n",
            "*********\n",
            "**********\n",
            "***********\n",
            "**********\n",
            "*********\n",
            "********\n",
            "*******\n",
            "******\n",
            "*****\n",
            "****\n",
            "***\n",
            "**\n",
            "*\n"
          ]
        }
      ],
      "source": [
        "a=()\n",
        "b=[]\n",
        "c={}\n",
        "for i in range(0,11):\n",
        "  b=print(i*\"*\")\n",
        "for i in range(11,0,-1):\n",
        "  b=print(i*\"*\")"
      ]
    },
    {
      "cell_type": "code",
      "execution_count": null,
      "metadata": {
        "colab": {
          "base_uri": "https://localhost:8080/"
        },
        "id": "TZnvg-zaEvqs",
        "outputId": "d0743e12-f8e8-4c09-b344-53c4a326f6df"
      },
      "outputs": [
        {
          "output_type": "stream",
          "name": "stdout",
          "text": [
            "請輸入一個介於 1 到 100 之間的數字: 540\n",
            "數字必須介於 1 到 100 之間，請重新輸入.\n",
            "請輸入一個介於 1 到 100 之間的數字: 50\n",
            "太大了!\n",
            "請輸入一個介於 1 到 100 之間的數字: 70\n",
            "太大了!\n",
            "請輸入一個介於 1 到 100 之間的數字: 40\n",
            "太大了!\n",
            "請輸入一個介於 1 到 100 之間的數字: 30\n",
            "太小了!\n",
            "請輸入一個介於 1 到 100 之間的數字: 65\n",
            "太大了!\n",
            "請輸入一個介於 1 到 100 之間的數字: 35\n",
            "太小了!\n",
            "請輸入一個介於 1 到 100 之間的數字: 36\n",
            "太小了!\n",
            "請輸入一個介於 1 到 100 之間的數字: 37\n",
            "太小了!\n",
            "請輸入一個介於 1 到 100 之間的數字: 38\n",
            "恭喜你猜對了! 你猜了 9 次.\n",
            "目前最佳完成次數: 9\n",
            "還要再玩一次嗎？ (是/否): 否\n",
            "遊戲結束，謝謝您的遊玩！\n"
          ]
        }
      ],
      "source": [
        "import random\n",
        "\n",
        "min_guesses_list = []\n",
        "\n",
        "while True:\n",
        "    answer = random.randint(1, 100)\n",
        "    count = 0\n",
        "\n",
        "    while True:\n",
        "        try:\n",
        "            guess = int(input(\"請輸入一個介於 1 到 100 之間的數字: \"))\n",
        "            count += 1\n",
        "        except ValueError:\n",
        "            print(\"請輸入有效的數字.\")\n",
        "            continue\n",
        "\n",
        "        if guess < 1 or guess > 100:\n",
        "            print(\"數字必須介於 1 到 100 之間，請重新輸入.\")\n",
        "            count -= 1\n",
        "            continue\n",
        "\n",
        "        if guess < answer:\n",
        "            print(\"太小了!\")\n",
        "        elif guess > answer:\n",
        "            print(\"太大了!\")\n",
        "        else:\n",
        "            print(\"恭喜你猜對了! 你猜了\", count, \"次.\")\n",
        "            min_guesses_list.append(count)\n",
        "            print(\"目前最佳完成次數:\", *min_guesses_list)\n",
        "            break\n",
        "\n",
        "    play_again = input(\"還要再玩一次嗎？ (是/否): \")\n",
        "    if play_again.lower() != '是':\n",
        "        print(\"遊戲結束，謝謝您的遊玩！\")\n",
        "        break"
      ]
    },
    {
      "cell_type": "code",
      "source": [
        "def yellow(i):\n",
        "  return i ** 5\n",
        "print(yellow(5))\n",
        "def even(x):\n",
        "  return x % 2 == 0\n",
        "print(even(100))\n",
        "\n",
        "start = 1\n",
        "end = 101\n",
        "last_number = end - 1\n",
        "\n",
        "for i in range(start, end):\n",
        "  if i == last_number:\n",
        "    print(i, end='')\n",
        "  else:\n",
        "    print(i, ',', end='')"
      ],
      "metadata": {
        "colab": {
          "base_uri": "https://localhost:8080/"
        },
        "id": "18iRDfCgyYjf",
        "outputId": "e0b24050-dc2c-4b62-ab81-41397983cebc"
      },
      "execution_count": null,
      "outputs": [
        {
          "output_type": "stream",
          "name": "stdout",
          "text": [
            "3125\n",
            "True\n",
            "1 ,2 ,3 ,4 ,5 ,6 ,7 ,8 ,9 ,10 ,11 ,12 ,13 ,14 ,15 ,16 ,17 ,18 ,19 ,20 ,21 ,22 ,23 ,24 ,25 ,26 ,27 ,28 ,29 ,30 ,31 ,32 ,33 ,34 ,35 ,36 ,37 ,38 ,39 ,40 ,41 ,42 ,43 ,44 ,45 ,46 ,47 ,48 ,49 ,50 ,51 ,52 ,53 ,54 ,55 ,56 ,57 ,58 ,59 ,60 ,61 ,62 ,63 ,64 ,65 ,66 ,67 ,68 ,69 ,70 ,71 ,72 ,73 ,74 ,75 ,76 ,77 ,78 ,79 ,80 ,81 ,82 ,83 ,84 ,85 ,86 ,87 ,88 ,89 ,90 ,91 ,92 ,93 ,94 ,95 ,96 ,97 ,98 ,99 ,100"
          ]
        }
      ]
    },
    {
      "cell_type": "code",
      "source": [
        "for i in range(1,10):\n",
        "  for j in range(1,10):\n",
        "    print(f\"{i} * {j} = {i*j}\", end='\\t')\n",
        "  print()"
      ],
      "metadata": {
        "colab": {
          "base_uri": "https://localhost:8080/"
        },
        "id": "9NwmzkQt3l1m",
        "outputId": "d46e1b9d-c842-4f21-d953-202503257321"
      },
      "execution_count": null,
      "outputs": [
        {
          "output_type": "stream",
          "name": "stdout",
          "text": [
            "1 * 1 = 1\t1 * 2 = 2\t1 * 3 = 3\t1 * 4 = 4\t1 * 5 = 5\t1 * 6 = 6\t1 * 7 = 7\t1 * 8 = 8\t1 * 9 = 9\t\n",
            "2 * 1 = 2\t2 * 2 = 4\t2 * 3 = 6\t2 * 4 = 8\t2 * 5 = 10\t2 * 6 = 12\t2 * 7 = 14\t2 * 8 = 16\t2 * 9 = 18\t\n",
            "3 * 1 = 3\t3 * 2 = 6\t3 * 3 = 9\t3 * 4 = 12\t3 * 5 = 15\t3 * 6 = 18\t3 * 7 = 21\t3 * 8 = 24\t3 * 9 = 27\t\n",
            "4 * 1 = 4\t4 * 2 = 8\t4 * 3 = 12\t4 * 4 = 16\t4 * 5 = 20\t4 * 6 = 24\t4 * 7 = 28\t4 * 8 = 32\t4 * 9 = 36\t\n",
            "5 * 1 = 5\t5 * 2 = 10\t5 * 3 = 15\t5 * 4 = 20\t5 * 5 = 25\t5 * 6 = 30\t5 * 7 = 35\t5 * 8 = 40\t5 * 9 = 45\t\n",
            "6 * 1 = 6\t6 * 2 = 12\t6 * 3 = 18\t6 * 4 = 24\t6 * 5 = 30\t6 * 6 = 36\t6 * 7 = 42\t6 * 8 = 48\t6 * 9 = 54\t\n",
            "7 * 1 = 7\t7 * 2 = 14\t7 * 3 = 21\t7 * 4 = 28\t7 * 5 = 35\t7 * 6 = 42\t7 * 7 = 49\t7 * 8 = 56\t7 * 9 = 63\t\n",
            "8 * 1 = 8\t8 * 2 = 16\t8 * 3 = 24\t8 * 4 = 32\t8 * 5 = 40\t8 * 6 = 48\t8 * 7 = 56\t8 * 8 = 64\t8 * 9 = 72\t\n",
            "9 * 1 = 9\t9 * 2 = 18\t9 * 3 = 27\t9 * 4 = 36\t9 * 5 = 45\t9 * 6 = 54\t9 * 7 = 63\t9 * 8 = 72\t9 * 9 = 81\t\n"
          ]
        }
      ]
    },
    {
      "cell_type": "code",
      "source": [],
      "metadata": {
        "id": "3FiSspf56Vqs"
      },
      "execution_count": null,
      "outputs": []
    }
  ],
  "metadata": {
    "colab": {
      "provenance": [],
      "authorship_tag": "ABX9TyOSQ+vI1ej8tlZPZOOeiXrs",
      "include_colab_link": true
    },
    "kernelspec": {
      "display_name": "Python 3",
      "name": "python3"
    },
    "language_info": {
      "name": "python"
    }
  },
  "nbformat": 4,
  "nbformat_minor": 0
}